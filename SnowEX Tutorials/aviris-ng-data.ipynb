{
 "cells": [
  {
   "cell_type": "markdown",
   "id": "suffering-union",
   "metadata": {},
   "source": [
    "# AVIRIS-NG Surface Spectral Reflectance\n",
    "Lessons learned working with the NSIDC dataset.  \n",
    "__Dataset__: SnowEx 2021; Senator Beck Basin and Grand Mesa  \n",
    "__Tutorial Author__: [Brent Wilder](https://github.com/brentwilder)\n",
    "\n",
    "```{admonition} Learning Objectives\n",
    "- Understand how this data is structured\n",
    "- Understand where to find necessary terrain and illumination data\n",
    "- Learn about the `spectral` python package and apply it to this dataset\n",
    "```"
   ]
  },
  {
   "cell_type": "markdown",
   "id": "649d863c-5ad1-4b9f-9fa0-416ff04396a4",
   "metadata": {},
   "source": [
    "## Computing environment\n",
    "\n",
    "We'll be using the following open source Python libraries in this notebook:"
   ]
  },
  {
   "cell_type": "code",
   "execution_count": 3,
   "id": "2a5720d5-d805-4c24-a92e-a2238805cdbf",
   "metadata": {},
   "outputs": [
    {
     "name": "stdout",
     "output_type": "stream",
     "text": [
      "Requirement already satisfied: spectral in /srv/conda/envs/notebook/lib/python3.11/site-packages (0.23.1)\n",
      "Requirement already satisfied: numpy in /srv/conda/envs/notebook/lib/python3.11/site-packages (from spectral) (1.26.4)\n"
     ]
    }
   ],
   "source": [
    "!pip install spectral\n",
    "from spectral import *\n",
    "import numpy as np\n",
    "import matplotlib.pyplot as plt"
   ]
  },
  {
   "cell_type": "markdown",
   "id": "d73344a2-f797-4218-a99f-a9db0338f002",
   "metadata": {},
   "source": [
    "## SnowEx21 Spectral Reflectance Dataset\n",
    "\n",
    "The data were collected using an airborne imaging spectrometer, AVIRIS-NG can be downloaded from here, https://nsidc.org/data/snex21_ssr/versions/1.\n",
    "- Reflectance is provided at 5 nm spectral resolution with a range of 380-2500 nm\n",
    "\n",
    "- For this dataset, the pixel resolution is 4 m\n",
    "\n",
    "- Data span from 19 March 2021 to 29 April 2021, and were collected in two snow-covered environments in Colorado: Senator Beck Basin and Grand Mesa\n",
    "\n",
    "- Each file will have a \"__.img__\" and \"__.hdr__\". You need to have both of these in the same directory to open data.\n",
    "\n",
    "<p align=\"center\">\n",
    "  <img src=\"https://avirisng.jpl.nasa.gov/img/rmotc_large.png\" />\n",
    "</p>\n",
    "\n",
    "\n"
   ]
  },
  {
   "cell_type": "markdown",
   "id": "0a9952e7",
   "metadata": {
    "jp-MarkdownHeadingCollapsed": true
   },
   "source": [
    "## Downloading necessary terrain and illumination data\n",
    "\n",
    "The NSIDC repository does not contain the terrain/illumination information.\n",
    "\n",
    "However, you can obtain it for the matching flightline (by its timestamp) at the following URL, https://search.earthdata.nasa.gov/ ,\n",
    "\n",
    "and searching for __\"AVIRIS-NG L1B Calibrated Radiance, Facility Instrument Collection, V1\"__ \n",
    "\n",
    "\n",
    "- You only need to download the \"*obs_ort*\" files for the flight of interest. Please note these are different than \"*obs*\" files (ort means orthorectified).\n",
    "\n",
    "\n",
    "- In the Granule ID search, you can use wildcars \"*\" on either end of \"obs_ort\" to reduce your search.\n",
    "\n",
    "- You may also want to use this bounding box to reduce your search: \n",
    "\n",
    "\n",
    "  - SW: 37.55725,-108.58887\n",
    "\n",
    "\n",
    "  - NE: 39.78206,-106.16309\n"
   ]
  },
  {
   "cell_type": "markdown",
   "id": "5b99d916-deb8-4af0-9fce-1e38e5c18d87",
   "metadata": {},
   "source": [
    "## Using python package, `spectral`, to open data\n",
    "\n",
    "```{important}\n",
    "Update the paths below to your local environment\n",
    "```"
   ]
  },
  {
   "cell_type": "code",
   "execution_count": 5,
   "id": "equipped-qualification",
   "metadata": {},
   "outputs": [],
   "source": [
    "# INSERT YOUR PATHS HERE\n",
    "#path_to_aviris = '/data/Albedo/AVIRIS/ang20210429t191025_rfl_v2z1'\n",
    "#path_to_aviris_hdr = '/data/Albedo/AVIRIS/ang20210429t191025_rfl_v2z1.hdr'\n",
    "#path_to_terrain = '/data/Albedo/AVIRIS/ang20210429t191025_rfl_v2z1_obs_ort'\n",
    "#path_to_terrain_hdr = '/data/Albedo/AVIRIS/ang20210429t191025_rfl_v2z1_obs_ort.hdr'"
   ]
  },
  {
   "cell_type": "code",
   "execution_count": 4,
   "id": "318ce802-df54-413a-bb19-74d727ec459c",
   "metadata": {},
   "outputs": [],
   "source": [
    "# INSERT YOUR PATHS HERE\n",
    "path_to_aviris = '/home/jovyan/shared-public/NASA-UW-Hackweek-2024-FMI-Project/AVIRIS-NG data/AVIRIS-NG-March_2021/SNEX21_SSR_ang20210319t093125_SBB_rfl_v2z1'\n",
    "path_to_aviris_hdr = '/home/jovyan/shared-public/NASA-UW-Hackweek-2024-FMI-Project/AVIRIS-NG data/AVIRIS-NG-March_2021/SNEX21_SSR_ang20210319t093125_SBB_rfl_v2z1.hdr'\n",
    "path_to_terrain = '/home/jovyan/shared-public/NASA-UW-Hackweek-2024-FMI-Project/AVIRIS-NG data/AVIRIS-NG-March_2021/ang20210319t093125_rdn_v2z1_obs_ort.bin'\n",
    "path_to_terrain_hdr = '/home/jovyan/shared-public/NASA-UW-Hackweek-2024-FMI-Project/AVIRIS-NG data/AVIRIS-NG-March_2021/ang20210319t093125_rdn_v2z1_obs_ort.hdr'\n"
   ]
  },
  {
   "cell_type": "code",
   "execution_count": 5,
   "id": "23b1489b",
   "metadata": {},
   "outputs": [
    {
     "data": {
      "text/plain": [
       "(1666, 634, 425)"
      ]
     },
     "execution_count": 5,
     "metadata": {},
     "output_type": "execute_result"
    }
   ],
   "source": [
    "# Open a test image\n",
    "aviris = envi.open(path_to_aviris_hdr)\n",
    "\n",
    "# Save to an array in memory\n",
    "rfl_array = aviris.open_memmap(writeable=True)\n",
    "\n",
    "# print shape. You can see here we have 425 spectral bands for a grid of 1848x699 pixels\n",
    "rfl_array.shape\n"
   ]
  },
  {
   "cell_type": "code",
   "execution_count": 6,
   "id": "ed222d1f",
   "metadata": {
    "scrolled": true
   },
   "outputs": [
    {
     "data": {
      "text/plain": [
       "array([ 377.071821,  382.081821,  387.091821,  392.101821,  397.101821,\n",
       "        402.111821,  407.121821,  412.131821,  417.141821,  422.151821,\n",
       "        427.161821,  432.171821,  437.171821,  442.181821,  447.191821,\n",
       "        452.201821,  457.211821,  462.221821,  467.231821,  472.231821,\n",
       "        477.241821,  482.251821,  487.261821,  492.271821,  497.281821,\n",
       "        502.291821,  507.301821,  512.301821,  517.311821,  522.321821,\n",
       "        527.331821,  532.341821,  537.351821,  542.361821,  547.361821,\n",
       "        552.371821,  557.381821,  562.391821,  567.401821,  572.411821,\n",
       "        577.421821,  582.431821,  587.431821,  592.441821,  597.451821,\n",
       "        602.461821,  607.471821,  612.481821,  617.491821,  622.491821,\n",
       "        627.501821,  632.511821,  637.521821,  642.531821,  647.541821,\n",
       "        652.551821,  657.561821,  662.561821,  667.571821,  672.581821,\n",
       "        677.591821,  682.601821,  687.611821,  692.621821,  697.621821,\n",
       "        702.631821,  707.641821,  712.651821,  717.661821,  722.671821,\n",
       "        727.681821,  732.691821,  737.691821,  742.701821,  747.711821,\n",
       "        752.721821,  757.731821,  762.741821,  767.751821,  772.751821,\n",
       "        777.761821,  782.771821,  787.781821,  792.791821,  797.801821,\n",
       "        802.811821,  807.821821,  812.821821,  817.831821,  822.841821,\n",
       "        827.851821,  832.861821,  837.871821,  842.881821,  847.881821,\n",
       "        852.891821,  857.901821,  862.911821,  867.921821,  872.931821,\n",
       "        877.941821,  882.951821,  887.951821,  892.961821,  897.971821,\n",
       "        902.981821,  907.991821,  913.001821,  918.011821,  923.021821,\n",
       "        928.021821,  933.031821,  938.041821,  943.051821,  948.061821,\n",
       "        953.071821,  958.081821,  963.081821,  968.091821,  973.101821,\n",
       "        978.111821,  983.121821,  988.131821,  993.141821,  998.151821,\n",
       "       1003.151821, 1008.161821, 1013.171821, 1018.181821, 1023.191821,\n",
       "       1028.201821, 1033.211821, 1038.211821, 1043.221821, 1048.231821,\n",
       "       1053.241821, 1058.251821, 1063.261821, 1068.271821, 1073.281821,\n",
       "       1078.281821, 1083.291821, 1088.301821, 1093.311821, 1098.321821,\n",
       "       1103.331821, 1108.341821, 1113.341821, 1118.351821, 1123.361821,\n",
       "       1128.371821, 1133.381821, 1138.391821, 1143.401821, 1148.411821,\n",
       "       1153.411821, 1158.421821, 1163.431821, 1168.441821, 1173.451821,\n",
       "       1178.461821, 1183.471821, 1188.471821, 1193.481821, 1198.491821,\n",
       "       1203.501821, 1208.511821, 1213.521821, 1218.531821, 1223.541821,\n",
       "       1228.541821, 1233.551821, 1238.561821, 1243.571821, 1248.581821,\n",
       "       1253.591821, 1258.601821, 1263.601821, 1268.611821, 1273.621821,\n",
       "       1278.631821, 1283.641821, 1288.651821, 1293.661821, 1298.671821,\n",
       "       1303.671821, 1308.681821, 1313.691821, 1318.701821, 1323.711821,\n",
       "       1328.721821, 1333.731821, 1338.731821, 1343.741821, 1348.751821,\n",
       "       1353.761821, 1358.771821, 1363.781821, 1368.791821, 1373.801821,\n",
       "       1378.801821, 1383.811821, 1388.821821, 1393.831821, 1398.841821,\n",
       "       1403.851821, 1408.861821, 1413.861821, 1418.871821, 1423.881821,\n",
       "       1428.891821, 1433.901821, 1438.911821, 1443.921821, 1448.931821,\n",
       "       1453.931821, 1458.941821, 1463.951821, 1468.961821, 1473.971821,\n",
       "       1478.981821, 1483.991821, 1488.991821, 1494.001821, 1499.011821,\n",
       "       1504.021821, 1509.031821, 1514.041821, 1519.051821, 1524.061821,\n",
       "       1529.061821, 1534.071821, 1539.081821, 1544.091821, 1549.101821,\n",
       "       1554.111821, 1559.121821, 1564.121821, 1569.131821, 1574.141821,\n",
       "       1579.151821, 1584.161821, 1589.171821, 1594.181821, 1599.191821,\n",
       "       1604.191821, 1609.201821, 1614.211821, 1619.221821, 1624.231821,\n",
       "       1629.241821, 1634.251821, 1639.251821, 1644.261821, 1649.271821,\n",
       "       1654.281821, 1659.291821, 1664.301821, 1669.311821, 1674.321821,\n",
       "       1679.321821, 1684.331821, 1689.341821, 1694.351821, 1699.361821,\n",
       "       1704.371821, 1709.381821, 1714.381821, 1719.391821, 1724.401821,\n",
       "       1729.411821, 1734.421821, 1739.431821, 1744.441821, 1749.451821,\n",
       "       1754.451821, 1759.461821, 1764.471821, 1769.481821, 1774.491821,\n",
       "       1779.501821, 1784.511821, 1789.511821, 1794.521821, 1799.531821,\n",
       "       1804.541821, 1809.551821, 1814.561821, 1819.571821, 1824.581821,\n",
       "       1829.581821, 1834.591821, 1839.601821, 1844.611821, 1849.621821,\n",
       "       1854.631821, 1859.641821, 1864.651821, 1869.651821, 1874.661821,\n",
       "       1879.671821, 1884.681821, 1889.691821, 1894.701821, 1899.711821,\n",
       "       1904.711821, 1909.721821, 1914.731821, 1919.741821, 1924.751821,\n",
       "       1929.761821, 1934.771821, 1939.781821, 1944.781821, 1949.791821,\n",
       "       1954.801821, 1959.811821, 1964.821821, 1969.831821, 1974.841821,\n",
       "       1979.841821, 1984.851821, 1989.861821, 1994.871821, 1999.881821,\n",
       "       2004.891821, 2009.901821, 2014.911821, 2019.911821, 2024.921821,\n",
       "       2029.931821, 2034.941821, 2039.951821, 2044.961821, 2049.971821,\n",
       "       2054.971821, 2059.981821, 2064.991821, 2070.001821, 2075.011821,\n",
       "       2080.021821, 2085.031821, 2090.041821, 2095.041821, 2100.051821,\n",
       "       2105.061821, 2110.071821, 2115.081821, 2120.091821, 2125.101821,\n",
       "       2130.101821, 2135.111821, 2140.121821, 2145.131821, 2150.141821,\n",
       "       2155.151821, 2160.161821, 2165.171821, 2170.171821, 2175.181821,\n",
       "       2180.191821, 2185.201821, 2190.211821, 2195.221821, 2200.231821,\n",
       "       2205.231821, 2210.241821, 2215.251821, 2220.261821, 2225.271821,\n",
       "       2230.281821, 2235.291821, 2240.301821, 2245.301821, 2250.311821,\n",
       "       2255.321821, 2260.331821, 2265.341821, 2270.351821, 2275.361821,\n",
       "       2280.361821, 2285.371821, 2290.381821, 2295.391821, 2300.401821,\n",
       "       2305.411821, 2310.421821, 2315.431821, 2320.431821, 2325.441821,\n",
       "       2330.451821, 2335.461821, 2340.471821, 2345.481821, 2350.491821,\n",
       "       2355.491821, 2360.501821, 2365.511821, 2370.521821, 2375.531821,\n",
       "       2380.541821, 2385.551821, 2390.561821, 2395.561821, 2400.571821,\n",
       "       2405.581821, 2410.591821, 2415.601821, 2420.611821, 2425.621821,\n",
       "       2430.621821, 2435.631821, 2440.641821, 2445.651821, 2450.661821,\n",
       "       2455.671821, 2460.681821, 2465.691821, 2470.691821, 2475.701821,\n",
       "       2480.711821, 2485.721821, 2490.731821, 2495.741821, 2500.751821])"
      ]
     },
     "execution_count": 6,
     "metadata": {},
     "output_type": "execute_result"
    }
   ],
   "source": [
    "# You can create an array of the bands centers like this\n",
    "bands = np.array(aviris.bands.centers)\n",
    "bands"
   ]
  },
  {
   "cell_type": "code",
   "execution_count": 23,
   "id": "12a02e71",
   "metadata": {},
   "outputs": [
    {
     "data": {
      "image/png": "[encoded data removed]",
      "text/plain": [
       "<Figure size 1000x500 with 1 Axes>"
      ]
     },
     "metadata": {},
     "output_type": "display_data"
    },
    {
     "data": {
      "text/plain": [
       "<Figure size 640x480 with 0 Axes>"
      ]
     },
     "metadata": {},
     "output_type": "display_data"
    }
   ],
   "source": [
    "# A simple data visalization by selecting random indices\n",
    "i = 900\n",
    "j = 300\n",
    "pixel = rfl_array[i,j,:]\n",
    "\n",
    "fig, ax = plt.subplots(1, 1, figsize=(10,5))\n",
    "plt.rcParams.update({'font.size': 18})\n",
    "ax.scatter(bands, pixel, color='blue', s=20)\n",
    "ax.set_xlabel('Wavelength [nm]')\n",
    "ax.set_ylabel('Reflectance')\n",
    "plt.show()\n",
    "plt.savefig('reflectance_vs_wavelength_March_19_2021.png')"
   ]
  },
  {
   "cell_type": "markdown",
   "id": "c5d92aff",
   "metadata": {},
   "source": [
    "## Lastly, a very important note!\n",
    "Please notice that convention for aspect follows $-\\pi$ to $\\pi$."
   ]
  },
  {
   "cell_type": "code",
   "execution_count": 8,
   "id": "d32fe140",
   "metadata": {
    "collapsed": true,
    "jupyter": {
     "outputs_hidden": true
    },
    "scrolled": true
   },
   "outputs": [
    {
     "ename": "EnviDataFileNotFoundError",
     "evalue": "Unable to determine the ENVI data file name for the given header file. You can specify the data file by passing its name as the optional `image` argument to envi.open.",
     "output_type": "error",
     "traceback": [
      "\u001b[0;31m---------------------------------------------------------------------------\u001b[0m",
      "\u001b[0;31mEnviDataFileNotFoundError\u001b[0m                 Traceback (most recent call last)",
      "Cell \u001b[0;32mIn[8], line 15\u001b[0m\n\u001b[1;32m      1\u001b[0m \u001b[38;5;66;03m# Terrain bands:\u001b[39;00m\n\u001b[1;32m      2\u001b[0m \u001b[38;5;66;03m# 0 - Path length (m)\u001b[39;00m\n\u001b[1;32m      3\u001b[0m \u001b[38;5;66;03m# 1 - To sensor azimuth\u001b[39;00m\n\u001b[0;32m   (...)\u001b[0m\n\u001b[1;32m     13\u001b[0m \n\u001b[1;32m     14\u001b[0m \u001b[38;5;66;03m# open envi object\u001b[39;00m\n\u001b[0;32m---> 15\u001b[0m terrain \u001b[38;5;241m=\u001b[39m \u001b[43menvi\u001b[49m\u001b[38;5;241;43m.\u001b[39;49m\u001b[43mopen\u001b[49m\u001b[43m(\u001b[49m\u001b[43mpath_to_terrain_hdr\u001b[49m\u001b[43m)\u001b[49m\n\u001b[1;32m     17\u001b[0m \u001b[38;5;66;03m# Save to an array in memory\u001b[39;00m\n\u001b[1;32m     18\u001b[0m terrain_array \u001b[38;5;241m=\u001b[39m terrain\u001b[38;5;241m.\u001b[39mopen_memmap(writeable\u001b[38;5;241m=\u001b[39m\u001b[38;5;28;01mTrue\u001b[39;00m)\n",
      "File \u001b[0;32m/srv/conda/envs/notebook/lib/python3.11/site-packages/spectral/io/envi.py:315\u001b[0m, in \u001b[0;36mopen\u001b[0;34m(file, image)\u001b[0m\n\u001b[1;32m    311\u001b[0m     \u001b[38;5;28;01mif\u001b[39;00m \u001b[38;5;129;01mnot\u001b[39;00m image:\n\u001b[1;32m    312\u001b[0m         msg \u001b[38;5;241m=\u001b[39m \u001b[38;5;124m'\u001b[39m\u001b[38;5;124mUnable to determine the ENVI data file name for the \u001b[39m\u001b[38;5;124m'\u001b[39m \\\n\u001b[1;32m    313\u001b[0m           \u001b[38;5;124m'\u001b[39m\u001b[38;5;124mgiven header file. You can specify the data file by passing \u001b[39m\u001b[38;5;124m'\u001b[39m \\\n\u001b[1;32m    314\u001b[0m           \u001b[38;5;124m'\u001b[39m\u001b[38;5;124mits name as the optional `image` argument to envi.open.\u001b[39m\u001b[38;5;124m'\u001b[39m\n\u001b[0;32m--> 315\u001b[0m         \u001b[38;5;28;01mraise\u001b[39;00m EnviDataFileNotFoundError(msg)\n\u001b[1;32m    316\u001b[0m \u001b[38;5;28;01melse\u001b[39;00m:\n\u001b[1;32m    317\u001b[0m     image \u001b[38;5;241m=\u001b[39m find_file_path(image)\n",
      "\u001b[0;31mEnviDataFileNotFoundError\u001b[0m: Unable to determine the ENVI data file name for the given header file. You can specify the data file by passing its name as the optional `image` argument to envi.open."
     ]
    }
   ],
   "source": [
    "# Terrain bands:\n",
    "# 0 - Path length (m)\n",
    "# 1 - To sensor azimuth\n",
    "# 2 - To sensor zenith\n",
    "# 3 - To sun azimuth\n",
    "# 4 - To sun zenith\n",
    "# 5 - Solar phase\n",
    "# 6 - Slope\n",
    "# 7 - Aspect\n",
    "# 8 - cosine(i) (local solar illumination angle)\n",
    "# 9 - UTC Time\n",
    "# 10 - Earth-sun distance (AU)\n",
    "\n",
    "# open envi object\n",
    "terrain = envi.open(path_to_terrain_hdr)\n",
    "\n",
    "# Save to an array in memory\n",
    "terrain_array = terrain.open_memmap(writeable=True)\n",
    "\n",
    "# Grab just aspect and flatten (remove nan)\n",
    "aspects = terrain_array[:,:,7].flatten()\n",
    "aspects = aspects[aspects>-9999]\n",
    "\n",
    "\n",
    "# Plot a histogram to show aspect range\n",
    "fig, ax = plt.subplots(1, 1, figsize=(10,5))\n",
    "plt.rcParams.update({'font.size': 18})\n",
    "ax.hist(aspects, color='black', bins=50)\n",
    "ax.set_xlabel('Aspect [degrees]')\n",
    "ax.set_ylabel('Count')\n",
    "plt.show()\n",
    "\n",
    "\n"
   ]
  },
  {
   "cell_type": "markdown",
   "id": "749f5c79-19d7-48ac-9421-852c3c83cc5f",
   "metadata": {},
   "source": [
    "## References\n",
    "\n",
    "To further explore these topics:\n",
    "\n",
    "* https://snowex-2022.hackweek.io/tutorials/aviris-ng/AVIRIS-NG_Tutorial.html\n",
    "\n",
    "* https://www.spectralpython.net/#documentation"
   ]
  },
  {
   "cell_type": "markdown",
   "id": "18675287-416c-4d32-a788-638e887a0534",
   "metadata": {},
   "source": [
    "## Introduction to Spectral Feature Fitting \n",
    "\n",
    "Now that we know how to access and explore hyperspectral data, we can take advantage of the detailed spectral signature to better understand the surface characteristics. For instance, using the Spectral Feature Fitting method, we can compare the absorption features within the image spectra to a reference spectra in order to identify the presence of a specific material within a given pixel. Here, we will demonstrate this using the ice absorption feature in a snow-covered pixel found within Swamp Angel Study Plot. \n",
    "\n",
    "To do so, we will follow the principles of the Beer-Lambert equation, which assumes one-way transmittance through a homogeneous medium: \n",
    "\n",
    "$$E_\\lambda = E_{0\\lambda} e^{-\\alpha_\\lambda d}$$ \n",
    "\n",
    "where $E_{0\\lambda}$ and $E_\\lambda$ are the initial and measured spectral irradiance, respectively, $\\alpha_\\lambda$ is a wavelength-specific absorption coefficient, and $d$ is the distance (i.e. thickness) that absorption occurs over. This will allow us to estimate an “equivalent thickness” of ice in a pixel."
   ]
  },
  {
   "cell_type": "markdown",
   "id": "04e4588b-46ba-4165-ac61-85c7bff3611b",
   "metadata": {},
   "source": [
    "### Load the reference spectra\n",
    "\n",
    "First, we'll start by loading the reference spectra. This table provides the simple refractive index ($n_\\lambda$) and the extinction coefficient ($k_\\lambda$) for water and ice between 400 and 2500 nm. "
   ]
  },
  {
   "cell_type": "code",
   "execution_count": 16,
   "id": "f732ae9f-47a4-4bd3-bc4c-198c9a6c7773",
   "metadata": {},
   "outputs": [],
   "source": [
    "import urllib.request"
   ]
  },
  {
   "cell_type": "code",
   "execution_count": 18,
   "id": "fd8a3829-41cc-49df-8c13-5de6396ab513",
   "metadata": {},
   "outputs": [],
   "source": [
    "ref_spectra_fname = 'data/h2o_indices.csv'\n",
    "urllib.request.urlretrieve(\n",
    "    'https://raw.githubusercontent.com/snowex-hackweek/tutorial-data/main/SnowEx-2022/AVIRIS-NG/h2o_indices.csv',\n",
    "    ref_spectra_fname\n",
    ");"
   ]
  },
  {
   "cell_type": "code",
   "execution_count": 19,
   "id": "4a4dbcf0-a552-4759-9960-74d95f62c63c",
   "metadata": {},
   "outputs": [
    {
     "name": "stdout",
     "output_type": "stream",
     "text": [
      "(421, 5)\n"
     ]
    },
    {
     "data": {
      "text/plain": [
       "array([[4.00000000e+02, 1.33810000e+00, 1.90000000e-09, 1.31940000e+00,\n",
       "        2.71000000e-09],\n",
       "       [4.05000000e+02, 1.33800000e+00, 1.72000000e-09, 1.31900000e+00,\n",
       "        2.62000000e-09],\n",
       "       [4.10000000e+02, 1.33790000e+00, 1.59000000e-09, 1.31850000e+00,\n",
       "        2.51000000e-09],\n",
       "       ...,\n",
       "       [2.49000000e+03, 1.26440000e+00, 1.81000000e-03, 1.22760000e+00,\n",
       "        9.11000000e-04],\n",
       "       [2.49500000e+03, 1.26402000e+00, 1.86000000e-03, 1.22670000e+00,\n",
       "        9.19000000e-04],\n",
       "       [2.50000000e+03, 1.26365556e+00, 1.90000000e-03, 1.22580000e+00,\n",
       "        9.25000000e-04]])"
      ]
     },
     "execution_count": 19,
     "metadata": {},
     "output_type": "execute_result"
    }
   ],
   "source": [
    "# Read the file into a numpy array\n",
    "ref_spectra = np.loadtxt(ref_spectra_fname, delimiter=\",\", skiprows=1)  # Skip the header row\n",
    "\n",
    "# Let's take a look at the dimensions of our new array and print out the first few and last few lines.\n",
    "print(ref_spectra.shape)\n",
    "ref_spectra"
   ]
  },
  {
   "cell_type": "code",
   "execution_count": 20,
   "id": "0a8f63e2-8897-4a42-8e1d-56820df461fd",
   "metadata": {},
   "outputs": [
    {
     "data": {
      "image/png": "[encoded data removed]",
      "text/plain": [
       "<Figure size 640x480 with 1 Axes>"
      ]
     },
     "metadata": {},
     "output_type": "display_data"
    }
   ],
   "source": [
    "import math \n",
    "# Extract columns from array\n",
    "wvl_nm_fullres = ref_spectra[:, 0] # extract the wavelength column\n",
    "wvl_cm_fullres = wvl_nm_fullres / 1e9 * 1e2  # convert wavelength from nm to cm\n",
    "ice_k = ref_spectra[:, 4] # get k for ice\n",
    "\n",
    "# Calculate absorption coefficients in cm^-1\n",
    "ice_abs_fullres = ice_k * math.pi * 4.0 / wvl_cm_fullres\n",
    "\n",
    "# Plot absorption coefficients\n",
    "plt.plot(wvl_nm_fullres, ice_abs_fullres, color='blue')\n",
    "plt.xlabel('Wavelength (nm)')\n",
    "plt.ylabel('Absorption Coefficient ($cm^{-1}$)')\n",
    "plt.show()"
   ]
  },
  {
   "cell_type": "code",
   "execution_count": null,
   "id": "0e65551c-6d48-48b9-938c-8cd566575db0",
   "metadata": {},
   "outputs": [],
   "source": []
  }
 ],
 "metadata": {
  "kernelspec": {
   "display_name": "Python 3 (ipykernel)",
   "language": "python",
   "name": "python3"
  },
  "language_info": {
   "codemirror_mode": {
    "name": "ipython",
    "version": 3
   },
   "file_extension": ".py",
   "mimetype": "text/x-python",
   "name": "python",
   "nbconvert_exporter": "python",
   "pygments_lexer": "ipython3",
   "version": "3.11.9"
  }
 },
 "nbformat": 4,
 "nbformat_minor": 5
}
